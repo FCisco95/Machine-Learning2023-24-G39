{
 "cells": [
  {
   "cell_type": "code",
   "execution_count": 1,
   "id": "3ae580f7",
   "metadata": {
    "tags": []
   },
   "outputs": [],
   "source": [
    "import pandas as pd\n",
    "import matplotlib.pyplot as plt\n",
    "import numpy as np\n",
    "\n",
    "from statsmodels.api import OLS, add_constant\n",
    "\n",
    "from sklearn.impute import KNNImputer\n",
    "\n",
    "from sklearn.preprocessing import MinMaxScaler, StandardScaler\n",
    "\n",
    "#from sklearn.linear_model import LinearRegression\n",
    "\n",
    "from sklearn.linear_model import RidgeClassifier, LogisticRegression\n",
    "\n",
    "from sklearn.model_selection import train_test_split\n",
    "\n",
    "from sklearn.naive_bayes import GaussianNB, CategoricalNB\n",
    "\n",
    "from sklearn.neighbors import KNeighborsRegressor, KNeighborsClassifier\n",
    "\n",
    "from sklearn.tree import DecisionTreeRegressor, DecisionTreeClassifier, plot_tree\n",
    "\n",
    "from sklearn.metrics import classification_report, accuracy_score, confusion_matrix\n",
    "from sklearn.metrics import precision_score, recall_score, f1_score, matthews_corrcoef\n",
    "\n",
    "\n",
    "Postures = pd.read_csv(\"Postures.csv\")\n",
    "\n",
    "def printClassResults(truth, preds):\n",
    "    print(\"The Accuracy is: %7.4f\" % accuracy_score(truth, preds))\n",
    "    print(\"The Precision is: %7.4f\" % precision_score(y_test, preds,average='micro'))\n",
    "    print(\"The Recall is: %7.4f\"    % recall_score(y_test, preds,average='micro'))\n",
    "    print(\"The F1 score is: %7.4f\"  % f1_score(y_test, preds,average='micro'))\n",
    "    print(\"The Matthews correlation coefficient is: %7.4f\" % matthews_corrcoef(y_test, preds))\n",
    "    print()\n",
    "    print(\"This is the Confusion Matrix\")\n",
    "    display(pd.DataFrame(confusion_matrix(truth, preds)))"
   ]
  },
  {
   "cell_type": "markdown",
   "id": "d8ad08a3",
   "metadata": {},
   "source": [
    "# 1) Processing the Data Set"
   ]
  },
  {
   "cell_type": "code",
   "execution_count": 2,
   "id": "7f563055-6902-49bf-8c0d-f1f9cab49677",
   "metadata": {
    "tags": []
   },
   "outputs": [
    {
     "name": "stdout",
     "output_type": "stream",
     "text": [
      "Proportion of missing values in column X3: 0.88%\n",
      "Proportion of missing values in column Y3: 0.88%\n",
      "Proportion of missing values in column Z3: 0.88%\n",
      "Proportion of missing values in column X4: 4.0%\n",
      "Proportion of missing values in column Y4: 4.0%\n",
      "Proportion of missing values in column Z4: 4.0%\n",
      "Proportion of missing values in column X5: 16.68%\n",
      "Proportion of missing values in column Y5: 16.68%\n",
      "Proportion of missing values in column Z5: 16.68%\n",
      "Proportion of missing values in column X6: 33.1%\n",
      "Proportion of missing values in column Y6: 33.1%\n",
      "Proportion of missing values in column Z6: 33.1%\n",
      "Proportion of missing values in column X7: 50.13%\n",
      "Proportion of missing values in column Y7: 50.13%\n",
      "Proportion of missing values in column Z7: 50.13%\n",
      "Proportion of missing values in column X8: 60.86%\n",
      "Proportion of missing values in column Y8: 60.86%\n",
      "Proportion of missing values in column Z8: 60.86%\n",
      "Proportion of missing values in column X9: 69.31%\n",
      "Proportion of missing values in column Y9: 69.31%\n",
      "Proportion of missing values in column Z9: 69.31%\n",
      "Proportion of missing values in column X10: 81.11%\n",
      "Proportion of missing values in column Y10: 81.11%\n",
      "Proportion of missing values in column Z10: 81.11%\n",
      "Proportion of missing values in column X11: 99.96%\n",
      "Proportion of missing values in column Y11: 99.96%\n",
      "Proportion of missing values in column Z11: 99.96%\n"
     ]
    }
   ],
   "source": [
    "# Eliminate first instance of Postures (all 0's) \n",
    "df = Postures.iloc[1:]\n",
    "\n",
    "for col in df.columns:\n",
    "    proportion = (df[col] == '?').mean()*100\n",
    "    if proportion > 0:\n",
    "        print(f'Proportion of missing values in column {col}: {round(proportion,2)}%')"
   ]
  },
  {
   "cell_type": "code",
   "execution_count": 3,
   "id": "f51b632e-8132-4b0f-85bf-3525bb2a9025",
   "metadata": {
    "tags": []
   },
   "outputs": [],
   "source": [
    "#removing the variables with a proportion of missing values more than 80% \n",
    "for col in df.columns:\n",
    "    proportion = (df[col] == '?').mean()*100\n",
    "    if proportion > 80:\n",
    "        df=df.drop(col, axis=1)"
   ]
  },
  {
   "cell_type": "code",
   "execution_count": 4,
   "id": "fb576599",
   "metadata": {
    "scrolled": true,
    "tags": []
   },
   "outputs": [],
   "source": [
    "# Replace all '?' to NaN, so that the values are valid for Imputation\n",
    "for col in df.columns:\n",
    "    df.loc[df[col] == '?', col] = np.nan\n",
    "\n",
    "# Instatiate a KNN Imputater\n",
    "imputer = KNNImputer(n_neighbors=2, weights=\"uniform\")\n",
    "\n",
    "# Extract from the Data Set the X and Y\n",
    "# WARNING: For testing purposes, only work with a small sub-set of the original Data Set\n",
    "#         Should be replaced for the whole Data Set in the act of Delivery \n",
    "X= df.values[0:10000,1:38]    \n",
    "y=df['Class'].values[0:10000]        \n",
    "        \n",
    "\n",
    "    \n",
    "# Acquire a new DataFrame with Imputated Values \n",
    "Xt=pd.DataFrame(imputer.fit_transform(X))"
   ]
  },
  {
   "cell_type": "markdown",
   "id": "7b1bb377",
   "metadata": {},
   "source": [
    "# 2) Tree Based Models"
   ]
  },
  {
   "cell_type": "code",
   "execution_count": 5,
   "id": "f0140e34",
   "metadata": {},
   "outputs": [
    {
     "name": "stdout",
     "output_type": "stream",
     "text": [
      "The Precision is:  0.9504\n",
      "The Recall is:  0.9504\n",
      "The F1 score is:  0.9504\n",
      "The Matthews correlation coefficient is:  0.9371\n",
      "\n",
      "This is the Confusion Matrix\n"
     ]
    },
    {
     "data": {
      "text/html": [
       "<div>\n",
       "<style scoped>\n",
       "    .dataframe tbody tr th:only-of-type {\n",
       "        vertical-align: middle;\n",
       "    }\n",
       "\n",
       "    .dataframe tbody tr th {\n",
       "        vertical-align: top;\n",
       "    }\n",
       "\n",
       "    .dataframe thead th {\n",
       "        text-align: right;\n",
       "    }\n",
       "</style>\n",
       "<table border=\"1\" class=\"dataframe\">\n",
       "  <thead>\n",
       "    <tr style=\"text-align: right;\">\n",
       "      <th></th>\n",
       "      <th>0</th>\n",
       "      <th>1</th>\n",
       "      <th>2</th>\n",
       "      <th>3</th>\n",
       "      <th>4</th>\n",
       "    </tr>\n",
       "  </thead>\n",
       "  <tbody>\n",
       "    <tr>\n",
       "      <th>0</th>\n",
       "      <td>705</td>\n",
       "      <td>2</td>\n",
       "      <td>11</td>\n",
       "      <td>3</td>\n",
       "      <td>5</td>\n",
       "    </tr>\n",
       "    <tr>\n",
       "      <th>1</th>\n",
       "      <td>2</td>\n",
       "      <td>328</td>\n",
       "      <td>7</td>\n",
       "      <td>2</td>\n",
       "      <td>13</td>\n",
       "    </tr>\n",
       "    <tr>\n",
       "      <th>2</th>\n",
       "      <td>7</td>\n",
       "      <td>6</td>\n",
       "      <td>420</td>\n",
       "      <td>6</td>\n",
       "      <td>5</td>\n",
       "    </tr>\n",
       "    <tr>\n",
       "      <th>3</th>\n",
       "      <td>2</td>\n",
       "      <td>0</td>\n",
       "      <td>7</td>\n",
       "      <td>442</td>\n",
       "      <td>8</td>\n",
       "    </tr>\n",
       "    <tr>\n",
       "      <th>4</th>\n",
       "      <td>6</td>\n",
       "      <td>17</td>\n",
       "      <td>7</td>\n",
       "      <td>8</td>\n",
       "      <td>481</td>\n",
       "    </tr>\n",
       "  </tbody>\n",
       "</table>\n",
       "</div>"
      ],
      "text/plain": [
       "     0    1    2    3    4\n",
       "0  705    2   11    3    5\n",
       "1    2  328    7    2   13\n",
       "2    7    6  420    6    5\n",
       "3    2    0    7  442    8\n",
       "4    6   17    7    8  481"
      ]
     },
     "execution_count": 5,
     "metadata": {},
     "output_type": "execute_result"
    }
   ],
   "source": [
    "# Divide the whole Set into Training and Testing Sets\n",
    "X_train, X_test, y_train, y_test = train_test_split(Xt, y, test_size=0.25, random_state=25)\n",
    "\n",
    "# Create a Decision Tree Model with the data\n",
    "tree_mdl = DecisionTreeClassifier()\n",
    "tree_mdl.fit(X_train, y_train)\n",
    "preds = tree_mdl.predict(X_test)\n",
    "\n",
    "# Present the results\n",
    "print(\"The Precision is: %7.4f\" % precision_score(y_test, preds,average='micro'))\n",
    "print(\"The Recall is: %7.4f\"    % recall_score(y_test, preds,average='micro'))\n",
    "print(\"The F1 score is: %7.4f\"  % f1_score(y_test, preds,average='micro'))\n",
    "print(\"The Matthews correlation coefficient is: %7.4f\" % matthews_corrcoef(y_test, preds))\n",
    "print()\n",
    "print(\"This is the Confusion Matrix\")\n",
    "pd.DataFrame(confusion_matrix(y_test, preds))\n",
    "\n",
    "# Maybe should try with different Hyperparameters (split, leaf, criterion, depth, etc.)\n",
    "# Look into 'TP03' for better data evaluation and ideas"
   ]
  },
  {
   "cell_type": "markdown",
   "id": "8d29e0ba",
   "metadata": {},
   "source": [
    "# 3) Linear Models"
   ]
  },
  {
   "cell_type": "code",
   "execution_count": 6,
   "id": "a255c3f3",
   "metadata": {},
   "outputs": [],
   "source": [
    "# Divide the whole Set into Training and Testing Sets\n",
    "X_train, X_test, y_train, y_test = train_test_split(Xt, y, test_size=0.25, random_state=25)\n",
    "\n",
    "# Create a Linear Regression Model with the data\n",
    "#reg = LinearRegression().fit(X_train, y_train)\n",
    "\n",
    "# Present the Biases\n",
    "#print(\"The bias is: \",  reg.intercept_)\n",
    "#print(\"The other parameters are: \")\n",
    "#for i, beta in enumerate(reg.coef_):\n",
    "#    print(\"\\t B%d -> %9.3f\"% (i+1, beta))\n",
    "    \n",
    "#This Linear Regression cell doesn't make sense. This is a Classification problem, not a Regression one!  "
   ]
  },
  {
   "cell_type": "code",
   "execution_count": 7,
   "id": "bc210c4e",
   "metadata": {},
   "outputs": [],
   "source": [
    "# Plot the Results\n",
    "#preds=reg.predict(X_test)\n",
    "#plt.figure(figsize=(10,5))\n",
    "#plt.scatter(preds, y_test)\n",
    "#plt.xlabel('Predictions')\n",
    "#plt.ylabel('Testing Set')\n",
    "#plt.grid()\n",
    "#plt.show()\n",
    "\n",
    "#This Linear Regression cell doesn't make sense. This is a Classification problem, not a Regression one!"
   ]
  },
  {
   "cell_type": "code",
   "execution_count": 8,
   "id": "5a18cd09",
   "metadata": {},
   "outputs": [],
   "source": [
    "#X_tr = add_constant(X_train)\n",
    "#mdl=OLS(y_train,X_tr, hasconst=12).fit()\n",
    "#mdl.summary()"
   ]
  },
  {
   "cell_type": "code",
   "execution_count": 9,
   "id": "19852e92",
   "metadata": {},
   "outputs": [],
   "source": [
    "# To Do: The same for Ridge(Classifier) aand Logistic Regression"
   ]
  },
  {
   "cell_type": "code",
   "execution_count": 10,
   "id": "33b314a1",
   "metadata": {},
   "outputs": [
    {
     "name": "stdout",
     "output_type": "stream",
     "text": [
      "The bias is:  1.1394663283998505\n",
      "The other parameters are: \n",
      "\t B01 ->     1.646\n",
      "\t B02 ->     0.164\n",
      "\t B03 ->    -1.015\n",
      "\t B04 ->     0.336\n",
      "\t B05 ->     0.002\n",
      "\t B06 ->    -1.016\n",
      "\t B07 ->    -0.029\n",
      "\t B08 ->     0.009\n",
      "\t B09 ->    -0.969\n",
      "\t B10 ->    -0.061\n",
      "\t B11 ->    -0.254\n",
      "\t B12 ->    -1.039\n",
      "\t B13 ->    -0.377\n",
      "\t B14 ->    -0.222\n",
      "\t B15 ->    -0.878\n",
      "\t B16 ->    -0.382\n",
      "\t B17 ->     0.117\n",
      "\t B18 ->    -1.187\n",
      "\t B19 ->    -0.099\n",
      "\t B20 ->     0.003\n",
      "\t B21 ->    -0.729\n",
      "\t B22 ->    -0.178\n",
      "\t B23 ->     0.005\n",
      "\t B24 ->    -0.799\n",
      "\t B25 ->    -0.000\n",
      "\t B26 ->     0.041\n",
      "\t B27 ->     0.450\n",
      "\t B28 ->    -0.007\n",
      "\t B29 ->     0.095\n",
      "\t B30 ->     0.203\n",
      "\t B31 ->    -0.145\n"
     ]
    },
    {
     "name": "stderr",
     "output_type": "stream",
     "text": [
      "C:\\Users\\Andre\\anaconda3\\Lib\\site-packages\\sklearn\\linear_model\\_logistic.py:444: ConvergenceWarning: lbfgs failed to converge (status=1):\n",
      "STOP: TOTAL NO. of ITERATIONS REACHED LIMIT.\n",
      "\n",
      "Increase the number of iterations (max_iter) or scale the data as shown in:\n",
      "    https://scikit-learn.org/stable/modules/preprocessing.html\n",
      "Please also refer to the documentation for alternative solver options:\n",
      "    https://scikit-learn.org/stable/modules/linear_model.html#logistic-regression\n",
      "  n_iter_i = _check_optimize_result(\n"
     ]
    }
   ],
   "source": [
    "\n",
    "scaler = StandardScaler()\n",
    "scaler.fit(X_train)\n",
    "\n",
    "X_train = scaler.transform(X_train)\n",
    "X_test = scaler.transform(X_test)\n",
    "\n",
    "LR = LogisticRegression(random_state=0).fit(X_train, y_train)\n",
    "\n",
    "print(\"The bias is: \",  LR.intercept_[0])\n",
    "print(\"The other parameters are: \")\n",
    "for i, beta in enumerate(LR.coef_[0]):\n",
    "    print(\"\\t B%02d -> %9.3f\"% (i+1, beta))\n",
    "    \n"
   ]
  },
  {
   "cell_type": "code",
   "execution_count": 11,
   "id": "7fb7be9a",
   "metadata": {},
   "outputs": [
    {
     "name": "stdout",
     "output_type": "stream",
     "text": [
      "\t B01 ->     1.646\n",
      "\t B18 ->     1.187\n",
      "\t B12 ->     1.039\n",
      "\t B06 ->     1.016\n",
      "\t B03 ->     1.015\n"
     ]
    }
   ],
   "source": [
    "coefs=[(abs(beta),i) for i, beta in enumerate(LR.coef_[0])]\n",
    "coefs.sort()\n",
    "coefs.reverse()\n",
    "for beta, i in coefs[:5]:\n",
    "    print(\"\\t B%02d -> %9.3f\"% (i+1, beta))"
   ]
  },
  {
   "cell_type": "code",
   "execution_count": 12,
   "id": "1b20e07e",
   "metadata": {},
   "outputs": [
    {
     "name": "stdout",
     "output_type": "stream",
     "text": [
      "The Accuracy is:  0.8760\n",
      "The Precision is:  0.8760\n",
      "The Recall is:  0.8760\n",
      "The F1 score is:  0.8760\n",
      "The Matthews correlation coefficient is:  0.8427\n",
      "\n",
      "This is the Confusion Matrix\n"
     ]
    },
    {
     "data": {
      "text/html": [
       "<div>\n",
       "<style scoped>\n",
       "    .dataframe tbody tr th:only-of-type {\n",
       "        vertical-align: middle;\n",
       "    }\n",
       "\n",
       "    .dataframe tbody tr th {\n",
       "        vertical-align: top;\n",
       "    }\n",
       "\n",
       "    .dataframe thead th {\n",
       "        text-align: right;\n",
       "    }\n",
       "</style>\n",
       "<table border=\"1\" class=\"dataframe\">\n",
       "  <thead>\n",
       "    <tr style=\"text-align: right;\">\n",
       "      <th></th>\n",
       "      <th>0</th>\n",
       "      <th>1</th>\n",
       "      <th>2</th>\n",
       "      <th>3</th>\n",
       "      <th>4</th>\n",
       "    </tr>\n",
       "  </thead>\n",
       "  <tbody>\n",
       "    <tr>\n",
       "      <th>0</th>\n",
       "      <td>652</td>\n",
       "      <td>8</td>\n",
       "      <td>46</td>\n",
       "      <td>5</td>\n",
       "      <td>15</td>\n",
       "    </tr>\n",
       "    <tr>\n",
       "      <th>1</th>\n",
       "      <td>1</td>\n",
       "      <td>296</td>\n",
       "      <td>17</td>\n",
       "      <td>5</td>\n",
       "      <td>33</td>\n",
       "    </tr>\n",
       "    <tr>\n",
       "      <th>2</th>\n",
       "      <td>48</td>\n",
       "      <td>23</td>\n",
       "      <td>368</td>\n",
       "      <td>5</td>\n",
       "      <td>0</td>\n",
       "    </tr>\n",
       "    <tr>\n",
       "      <th>3</th>\n",
       "      <td>12</td>\n",
       "      <td>5</td>\n",
       "      <td>3</td>\n",
       "      <td>409</td>\n",
       "      <td>30</td>\n",
       "    </tr>\n",
       "    <tr>\n",
       "      <th>4</th>\n",
       "      <td>9</td>\n",
       "      <td>30</td>\n",
       "      <td>11</td>\n",
       "      <td>4</td>\n",
       "      <td>465</td>\n",
       "    </tr>\n",
       "  </tbody>\n",
       "</table>\n",
       "</div>"
      ],
      "text/plain": [
       "     0    1    2    3    4\n",
       "0  652    8   46    5   15\n",
       "1    1  296   17    5   33\n",
       "2   48   23  368    5    0\n",
       "3   12    5    3  409   30\n",
       "4    9   30   11    4  465"
      ]
     },
     "metadata": {},
     "output_type": "display_data"
    }
   ],
   "source": [
    "preds = LR.predict(X_test)\n",
    "printClassResults(y_test, preds)"
   ]
  },
  {
   "cell_type": "code",
   "execution_count": 13,
   "id": "56cb0687",
   "metadata": {},
   "outputs": [
    {
     "name": "stdout",
     "output_type": "stream",
     "text": [
      "The bias is:  -0.44053333333333333\n",
      "The other parameters are: \n",
      "\t B01 ->     0.341\n",
      "\t B02 ->     0.033\n",
      "\t B03 ->    -0.120\n",
      "\t B04 ->     0.011\n",
      "\t B05 ->     0.016\n",
      "\t B06 ->    -0.137\n",
      "\t B07 ->    -0.019\n",
      "\t B08 ->     0.047\n",
      "\t B09 ->    -0.134\n",
      "\t B10 ->    -0.006\n",
      "\t B11 ->     0.006\n",
      "\t B12 ->    -0.146\n",
      "\t B13 ->    -0.021\n",
      "\t B14 ->    -0.021\n",
      "\t B15 ->    -0.102\n",
      "\t B16 ->    -0.038\n",
      "\t B17 ->     0.008\n",
      "\t B18 ->    -0.212\n",
      "\t B19 ->     0.033\n",
      "\t B20 ->     0.034\n",
      "\t B21 ->    -0.103\n",
      "\t B22 ->    -0.047\n",
      "\t B23 ->     0.082\n",
      "\t B24 ->    -0.158\n",
      "\t B25 ->     0.057\n",
      "\t B26 ->     0.005\n",
      "\t B27 ->     0.053\n",
      "\t B28 ->    -0.098\n",
      "\t B29 ->    -0.015\n",
      "\t B30 ->     0.034\n",
      "\t B31 ->    -0.114\n"
     ]
    }
   ],
   "source": [
    "RC = RidgeClassifier(random_state=0).fit(X_train, y_train)\n",
    "\n",
    "print(\"The bias is: \",  RC.intercept_[0])\n",
    "print(\"The other parameters are: \")\n",
    "for i, beta in enumerate(RC.coef_[0]):\n",
    "    print(\"\\t B%02d -> %9.3f\"% (i+1, beta))"
   ]
  },
  {
   "cell_type": "code",
   "execution_count": 14,
   "id": "ef0f7d83",
   "metadata": {},
   "outputs": [
    {
     "name": "stdout",
     "output_type": "stream",
     "text": [
      "\t B01 ->     0.341\n",
      "\t B18 ->     0.212\n",
      "\t B24 ->     0.158\n",
      "\t B12 ->     0.146\n",
      "\t B06 ->     0.137\n"
     ]
    }
   ],
   "source": [
    "coefs=[(abs(beta),i) for i, beta in enumerate(RC.coef_[0])]\n",
    "coefs.sort()\n",
    "coefs.reverse()\n",
    "for beta, i in coefs[:5]:\n",
    "    print(\"\\t B%02d -> %9.3f\"% (i+1, beta))"
   ]
  },
  {
   "cell_type": "code",
   "execution_count": 15,
   "id": "d46760a4",
   "metadata": {},
   "outputs": [
    {
     "name": "stdout",
     "output_type": "stream",
     "text": [
      "The Accuracy is:  0.8324\n",
      "The Precision is:  0.8324\n",
      "The Recall is:  0.8324\n",
      "The F1 score is:  0.8324\n",
      "The Matthews correlation coefficient is:  0.7878\n",
      "\n",
      "This is the Confusion Matrix\n"
     ]
    },
    {
     "data": {
      "text/html": [
       "<div>\n",
       "<style scoped>\n",
       "    .dataframe tbody tr th:only-of-type {\n",
       "        vertical-align: middle;\n",
       "    }\n",
       "\n",
       "    .dataframe tbody tr th {\n",
       "        vertical-align: top;\n",
       "    }\n",
       "\n",
       "    .dataframe thead th {\n",
       "        text-align: right;\n",
       "    }\n",
       "</style>\n",
       "<table border=\"1\" class=\"dataframe\">\n",
       "  <thead>\n",
       "    <tr style=\"text-align: right;\">\n",
       "      <th></th>\n",
       "      <th>0</th>\n",
       "      <th>1</th>\n",
       "      <th>2</th>\n",
       "      <th>3</th>\n",
       "      <th>4</th>\n",
       "    </tr>\n",
       "  </thead>\n",
       "  <tbody>\n",
       "    <tr>\n",
       "      <th>0</th>\n",
       "      <td>628</td>\n",
       "      <td>17</td>\n",
       "      <td>45</td>\n",
       "      <td>22</td>\n",
       "      <td>14</td>\n",
       "    </tr>\n",
       "    <tr>\n",
       "      <th>1</th>\n",
       "      <td>0</td>\n",
       "      <td>290</td>\n",
       "      <td>24</td>\n",
       "      <td>1</td>\n",
       "      <td>37</td>\n",
       "    </tr>\n",
       "    <tr>\n",
       "      <th>2</th>\n",
       "      <td>65</td>\n",
       "      <td>32</td>\n",
       "      <td>341</td>\n",
       "      <td>1</td>\n",
       "      <td>5</td>\n",
       "    </tr>\n",
       "    <tr>\n",
       "      <th>3</th>\n",
       "      <td>12</td>\n",
       "      <td>9</td>\n",
       "      <td>1</td>\n",
       "      <td>417</td>\n",
       "      <td>20</td>\n",
       "    </tr>\n",
       "    <tr>\n",
       "      <th>4</th>\n",
       "      <td>5</td>\n",
       "      <td>24</td>\n",
       "      <td>37</td>\n",
       "      <td>48</td>\n",
       "      <td>405</td>\n",
       "    </tr>\n",
       "  </tbody>\n",
       "</table>\n",
       "</div>"
      ],
      "text/plain": [
       "     0    1    2    3    4\n",
       "0  628   17   45   22   14\n",
       "1    0  290   24    1   37\n",
       "2   65   32  341    1    5\n",
       "3   12    9    1  417   20\n",
       "4    5   24   37   48  405"
      ]
     },
     "metadata": {},
     "output_type": "display_data"
    }
   ],
   "source": [
    "preds = RC.predict(X_test)\n",
    "printClassResults(y_test, preds)\n",
    "\n",
    "#Linear Models Section still needs to be refined"
   ]
  },
  {
   "cell_type": "markdown",
   "id": "eead9903",
   "metadata": {},
   "source": [
    "# 4) Naive Bayes"
   ]
  },
  {
   "cell_type": "code",
   "execution_count": 16,
   "id": "8723e8c6",
   "metadata": {},
   "outputs": [
    {
     "name": "stdout",
     "output_type": "stream",
     "text": [
      "The Accuracy score is:  0.7252\n",
      "\n",
      "Confusion Matrix:\n"
     ]
    },
    {
     "data": {
      "text/html": [
       "<div>\n",
       "<style scoped>\n",
       "    .dataframe tbody tr th:only-of-type {\n",
       "        vertical-align: middle;\n",
       "    }\n",
       "\n",
       "    .dataframe tbody tr th {\n",
       "        vertical-align: top;\n",
       "    }\n",
       "\n",
       "    .dataframe thead th {\n",
       "        text-align: right;\n",
       "    }\n",
       "</style>\n",
       "<table border=\"1\" class=\"dataframe\">\n",
       "  <thead>\n",
       "    <tr style=\"text-align: right;\">\n",
       "      <th></th>\n",
       "      <th>Class 1</th>\n",
       "      <th>Class 2</th>\n",
       "      <th>Class 3</th>\n",
       "      <th>Class 4</th>\n",
       "      <th>Class 5</th>\n",
       "    </tr>\n",
       "  </thead>\n",
       "  <tbody>\n",
       "    <tr>\n",
       "      <th>Class 1</th>\n",
       "      <td>235</td>\n",
       "      <td>4</td>\n",
       "      <td>348</td>\n",
       "      <td>72</td>\n",
       "      <td>67</td>\n",
       "    </tr>\n",
       "    <tr>\n",
       "      <th>Class 2</th>\n",
       "      <td>0</td>\n",
       "      <td>344</td>\n",
       "      <td>4</td>\n",
       "      <td>0</td>\n",
       "      <td>4</td>\n",
       "    </tr>\n",
       "    <tr>\n",
       "      <th>Class 3</th>\n",
       "      <td>1</td>\n",
       "      <td>19</td>\n",
       "      <td>400</td>\n",
       "      <td>12</td>\n",
       "      <td>12</td>\n",
       "    </tr>\n",
       "    <tr>\n",
       "      <th>Class 4</th>\n",
       "      <td>0</td>\n",
       "      <td>7</td>\n",
       "      <td>2</td>\n",
       "      <td>438</td>\n",
       "      <td>12</td>\n",
       "    </tr>\n",
       "    <tr>\n",
       "      <th>Class 5</th>\n",
       "      <td>0</td>\n",
       "      <td>51</td>\n",
       "      <td>52</td>\n",
       "      <td>20</td>\n",
       "      <td>396</td>\n",
       "    </tr>\n",
       "  </tbody>\n",
       "</table>\n",
       "</div>"
      ],
      "text/plain": [
       "         Class 1  Class 2  Class 3  Class 4  Class 5\n",
       "Class 1      235        4      348       72       67\n",
       "Class 2        0      344        4        0        4\n",
       "Class 3        1       19      400       12       12\n",
       "Class 4        0        7        2      438       12\n",
       "Class 5        0       51       52       20      396"
      ]
     },
     "metadata": {},
     "output_type": "display_data"
    },
    {
     "name": "stdout",
     "output_type": "stream",
     "text": [
      "The Accuracy score is:  0.3016\n",
      "\n",
      "Confusion Matrix:\n"
     ]
    },
    {
     "data": {
      "text/html": [
       "<div>\n",
       "<style scoped>\n",
       "    .dataframe tbody tr th:only-of-type {\n",
       "        vertical-align: middle;\n",
       "    }\n",
       "\n",
       "    .dataframe tbody tr th {\n",
       "        vertical-align: top;\n",
       "    }\n",
       "\n",
       "    .dataframe thead th {\n",
       "        text-align: right;\n",
       "    }\n",
       "</style>\n",
       "<table border=\"1\" class=\"dataframe\">\n",
       "  <thead>\n",
       "    <tr style=\"text-align: right;\">\n",
       "      <th></th>\n",
       "      <th>Class 1</th>\n",
       "      <th>Class 2</th>\n",
       "      <th>Class 3</th>\n",
       "      <th>Class 4</th>\n",
       "      <th>Class 5</th>\n",
       "    </tr>\n",
       "  </thead>\n",
       "  <tbody>\n",
       "    <tr>\n",
       "      <th>Class 1</th>\n",
       "      <td>235</td>\n",
       "      <td>1</td>\n",
       "      <td>0</td>\n",
       "      <td>0</td>\n",
       "      <td>490</td>\n",
       "    </tr>\n",
       "    <tr>\n",
       "      <th>Class 2</th>\n",
       "      <td>0</td>\n",
       "      <td>2</td>\n",
       "      <td>0</td>\n",
       "      <td>0</td>\n",
       "      <td>350</td>\n",
       "    </tr>\n",
       "    <tr>\n",
       "      <th>Class 3</th>\n",
       "      <td>0</td>\n",
       "      <td>0</td>\n",
       "      <td>0</td>\n",
       "      <td>0</td>\n",
       "      <td>444</td>\n",
       "    </tr>\n",
       "    <tr>\n",
       "      <th>Class 4</th>\n",
       "      <td>0</td>\n",
       "      <td>0</td>\n",
       "      <td>0</td>\n",
       "      <td>0</td>\n",
       "      <td>459</td>\n",
       "    </tr>\n",
       "    <tr>\n",
       "      <th>Class 5</th>\n",
       "      <td>0</td>\n",
       "      <td>2</td>\n",
       "      <td>0</td>\n",
       "      <td>0</td>\n",
       "      <td>517</td>\n",
       "    </tr>\n",
       "  </tbody>\n",
       "</table>\n",
       "</div>"
      ],
      "text/plain": [
       "         Class 1  Class 2  Class 3  Class 4  Class 5\n",
       "Class 1      235        1        0        0      490\n",
       "Class 2        0        2        0        0      350\n",
       "Class 3        0        0        0        0      444\n",
       "Class 4        0        0        0        0      459\n",
       "Class 5        0        2        0        0      517"
      ]
     },
     "metadata": {},
     "output_type": "display_data"
    }
   ],
   "source": [
    "# Scale the data so it can be used in Naive Bayes Models\n",
    "scaler = MinMaxScaler() #Maybe use different Scalers (See info in TP06)\n",
    "X_train = scaler.fit_transform(X_train)\n",
    "X_test = scaler.transform(X_test)\n",
    "\n",
    "#Column Names (a.k.a Possible Classes)\n",
    "classes = np.array(['Class 1','Class 2','Class 3','Class 4','Class 5'])\n",
    "\n",
    "# Create a Gaussian Naive Bayes Model with the scaled data\n",
    "gnb=GaussianNB()\n",
    "gnb.fit(X_train, y_train)\n",
    "\n",
    "# Present the Results\n",
    "preds=gnb.predict(X_test)\n",
    "print(\"The Accuracy score is: \", accuracy_score(y_test, preds))\n",
    "print()\n",
    "print('Confusion Matrix:')\n",
    "display(pd.DataFrame(confusion_matrix(y_test, preds), columns=classes, index=classes))\n",
    "\n",
    "\n",
    "# Create a Categorical Naive Bayes Model with the scaled data\n",
    "cnb=CategoricalNB()\n",
    "cnb.fit(X_train,y_train)\n",
    "\n",
    "# Present the Results\n",
    "preds=cnb.predict(X_test)\n",
    "print(\"The Accuracy score is: \", accuracy_score(y_test, preds))\n",
    "print()\n",
    "print('Confusion Matrix:')\n",
    "display(pd.DataFrame(confusion_matrix(y_test, preds), columns=classes, index=classes))"
   ]
  },
  {
   "cell_type": "markdown",
   "id": "4ecf82ac",
   "metadata": {},
   "source": [
    "# 5) K-Nearest Neighbours"
   ]
  },
  {
   "cell_type": "code",
   "execution_count": 17,
   "id": "1b65b680",
   "metadata": {},
   "outputs": [
    {
     "name": "stdout",
     "output_type": "stream",
     "text": [
      "Accuracy: 0.936\n"
     ]
    }
   ],
   "source": [
    "# Divide the whole Set into Training and Testing Sets to be scaled with a different Scaler\n",
    "X_train, X_test, y_train, y_test = train_test_split(Xt, y, test_size=0.25, random_state=25)\n",
    "\n",
    "# Scale the data so it can be used in K-Nearest Neighbours Models\n",
    "scaler = StandardScaler() #Maybe use different Scalers (See info in TP06)\n",
    "X_train = scaler.fit_transform(X_train)\n",
    "X_test = scaler.transform(X_test)\n",
    "\n",
    "knn = KNeighborsClassifier(n_neighbors=3)\n",
    "knn.fit(X_train, y_train)\n",
    "\n",
    "preds = knn.predict(X_test)\n",
    "\n",
    "# Present the Results\n",
    "accuracy = accuracy_score(y_test, preds)\n",
    "print(\"Accuracy:\", accuracy)\n",
    "\n",
    "#Sholud try to make plots "
   ]
  },
  {
   "cell_type": "code",
   "execution_count": null,
   "id": "8ac5da97",
   "metadata": {},
   "outputs": [],
   "source": []
  }
 ],
 "metadata": {
  "kernelspec": {
   "display_name": "Python 3 (ipykernel)",
   "language": "python",
   "name": "python3"
  },
  "language_info": {
   "codemirror_mode": {
    "name": "ipython",
    "version": 3
   },
   "file_extension": ".py",
   "mimetype": "text/x-python",
   "name": "python",
   "nbconvert_exporter": "python",
   "pygments_lexer": "ipython3",
   "version": "3.11.4"
  }
 },
 "nbformat": 4,
 "nbformat_minor": 5
}
